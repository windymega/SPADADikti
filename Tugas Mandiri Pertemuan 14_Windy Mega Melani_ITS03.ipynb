{
  "cells": [
    {
      "cell_type": "markdown",
      "metadata": {
        "id": "7g4jcXzjDn0F"
      },
      "source": [
        "![header%20ipynb.png](attachment:header%20ipynb.png)"
      ]
    },
    {
      "cell_type": "markdown",
      "metadata": {
        "id": "JZx1CgL8Dn0S"
      },
      "source": [
        "# Hands-On\n",
        "---\n",
        "\n",
        "Hands-On ini digunakan pada kegiatan Microcredential Associate Data Scientist 2021"
      ]
    },
    {
      "cell_type": "markdown",
      "metadata": {
        "id": "7J3RbwAMDn0T"
      },
      "source": [
        "# Tugas Mandiri Pertemuan 14\n",
        "---\n",
        "Pertemuan 14 (empatbelas) pada Microcredential Associate Data Scientist 2021 menyampaikan materi mengenai Membangun Model (RNN dan LSTM). silakan Anda kerjakan Latihan 1 s/d 5. Output yang anda lihat merupakan panduan yang dapat Anda ikuti dalam penulisan code :)"
      ]
    },
    {
      "cell_type": "markdown",
      "metadata": {
        "id": "amDO92PDDn0V"
      },
      "source": [
        "# RNN\n",
        "\n",
        "Jaringan saraf berulang atau recurrent neural network (RNN) adalah jenis arsitektur jaringan saraf tiruan yang pemrosesannya dipanggil berulang-ulang untuk memroses masukan yang biasanya adalah data sekuensial. RNN masuk dalam kategori deep learning karena data diproses melalui banyak lapis (layer). RNN telah mengalami kemajuan yang pesat dan telah merevolusi bidang-bidang seperti pemrosesan bahasa alami (NLP), pengenalan suara, sintesa musik, pemrosesan data finansial seri waktu, analisa deret DNA, analisa video, dan sebagainya.\n",
        "\n",
        "\n",
        "RNN memroses input secara sekuensial, sampel per sampel. Dalam tiap pemrosesan, output yang dihasilkan tidak hanya merupakan fungsi dari sampel itu saja, tapi juga berdasarkan state internal yang merupakan hasil dari pemrosesan sampel-sampel sebelumnya (atau setelahnya, pada bidirectional RNN).\n",
        "\n",
        "Berikut adalah ilustrasi bagaimana RNN bekerja. Misalnya kita membuat RNN untuk menerjemahkan bahasa Indonesia ke bahasa Inggris\n",
        "\n",
        "![image.png](attachment:image.png)\n",
        "\n",
        "Ilustrasi di atas kelihatan rumit, tapi sebenarnya cukup mudah dipahami.\n",
        "\n",
        "* sumbu horizontal adalah waktu, direpresentasikan dengan simbol t. Dapat kita bayangkan pemrosesan berjalan dari kiri ke kanan. Selanjutnya kita sebut t adalah langkah waktu (time step).\n",
        "\n",
        "* Keseluruhan input adalah kalimat, dalam hal ini:\n",
        "        Budi pergi ke sekolah.\n",
        "\n",
        "* Pemrosean input oleh RNN adalah kata demi kata. Input kata-kata ini disimbolkan dengan x1 ,x2 , … ,x5 , atau secara umum xt.\n",
        "\n",
        "* Output adalah kalimat, dalam hal ini:\n",
        "        Budi goes to school.\n",
        " \n",
        "* RNN memberikan output kata demi kata, dan ini kita simbolkan dengan ŷ1, ŷ2,  …, ŷ5 , atau secara umum ŷt .\n",
        "* Dalam tiap pemrosesan, RNN akan menyimpan state internal yaitu st, yang  diberikan dari satu langkah waktu ke langkah waktu berikutnya. Inilah “memori” dari RNN.\n",
        "\n",
        "Dengan contoh di atas, kita bisa generalisasikan arsitektur RNN sebagai berikut:\n",
        "\n",
        "![image-2.png](attachment:image-2.png)\n",
        "\n",
        "Tambahan yang tidak terdapat di diagram sebelumnya adalah U, V, dan W, yang merupakan parameter-parameter yang dimiliki RNN. Kita akan bahas pemakaian parameter-parameter ini nanti.\n",
        "\n",
        "Penting untuk dipahami bahwa walaupun ada empat kotak RNN di gambar di atas, empat kotak itu mencerminkan satu modul RNN yang sama (satu instans model dengan parameter-parameter U, V, dan W yang sama). Penggambaran di atas hanya agar aspek sekuensialnya lebih tergambar.\n",
        "\n",
        "Alternatif representasinya adalah seperti ini, agar lebih jelas bahwa hanya ada satu modul RNN:\n",
        "![image-3.png](attachment:image-3.png)\n",
        "\n",
        "Inilah sebabnya kenapa arsitektur ini disebut RNN. Kata recurrent (berulang) dalam RNN timbul karena RNN melakukan perhitungan yang sama secara berulang-ulang atas input yang kita berikan.\n",
        "\n",
        "Sering juga kedua ilustrasi di atas digabungkan jadi satu sbb:\n",
        "![image-4.png](attachment:image-4.png)\n",
        "Sesuai dengan gambar di atas, ilustrasi di sebelah kanan adalah penjabaran (unrolled) dari versi berulang di sebelah kiri."
      ]
    },
    {
      "cell_type": "markdown",
      "metadata": {
        "id": "Bsitf-SaDn0Y"
      },
      "source": [
        "# Latihan (1)\n",
        "\n",
        "### Melakukan import library yang dibutuhkan"
      ]
    },
    {
      "cell_type": "code",
      "execution_count": 1,
      "metadata": {
        "_cell_guid": "b1076dfc-b9ad-4769-8c92-a6c4dae69d19",
        "_uuid": "8f2839f25d086af736a60e9eeb907d3b93b6e0e5",
        "colab": {
          "base_uri": "https://localhost:8080/"
        },
        "id": "xKS8lYwNDn0c",
        "outputId": "a93d3ec2-3acb-4c96-8cb0-67f0911cdfe7"
      },
      "outputs": [
        {
          "output_type": "stream",
          "name": "stdout",
          "text": [
            "Requirement already satisfied: matplotlib in /usr/local/lib/python3.7/dist-packages (3.2.2)\n",
            "Requirement already satisfied: cycler>=0.10 in /usr/local/lib/python3.7/dist-packages (from matplotlib) (0.11.0)\n",
            "Requirement already satisfied: kiwisolver>=1.0.1 in /usr/local/lib/python3.7/dist-packages (from matplotlib) (1.3.2)\n",
            "Requirement already satisfied: python-dateutil>=2.1 in /usr/local/lib/python3.7/dist-packages (from matplotlib) (2.8.2)\n",
            "Requirement already satisfied: pyparsing!=2.0.4,!=2.1.2,!=2.1.6,>=2.0.1 in /usr/local/lib/python3.7/dist-packages (from matplotlib) (3.0.6)\n",
            "Requirement already satisfied: numpy>=1.11 in /usr/local/lib/python3.7/dist-packages (from matplotlib) (1.19.5)\n",
            "Requirement already satisfied: six>=1.5 in /usr/local/lib/python3.7/dist-packages (from python-dateutil>=2.1->matplotlib) (1.15.0)\n"
          ]
        }
      ],
      "source": [
        "# import library pandas\n",
        "import pandas as pd\n",
        "\n",
        "# Import library numpy\n",
        "import numpy as np\n",
        "\n",
        "# Import library matplotlib untuk visualisasi\n",
        "!pip install matplotlib\n",
        "import matplotlib.pyplot as plt\n",
        "\n",
        "# import library for build model \n",
        "import keras\n",
        "from keras.datasets import mnist\n",
        "from keras.utils import np_utils\n",
        "from keras.layers import Dense, Dropout, SimpleRNN, LSTM\n",
        "from keras.models import Sequential\n",
        "\n",
        "# import library untuk data preprocessing\n",
        "from sklearn.preprocessing import MinMaxScaler\n",
        "from sklearn.model_selection import train_test_split\n",
        "from sklearn.metrics import r2_score"
      ]
    },
    {
      "cell_type": "markdown",
      "metadata": {
        "id": "7Y2g8u6JDn0l"
      },
      "source": [
        "### Load Dataset"
      ]
    },
    {
      "cell_type": "code",
      "execution_count": 2,
      "metadata": {
        "id": "AFio2bjDDn0m"
      },
      "outputs": [],
      "source": [
        "#Panggil file (load file bernama Stock.csv) dan simpan dalam dataframe\n",
        "dataset =\"Stock.csv\"\n",
        "data = pd.read_csv(dataset)"
      ]
    },
    {
      "cell_type": "code",
      "execution_count": 3,
      "metadata": {
        "colab": {
          "base_uri": "https://localhost:8080/",
          "height": 204
        },
        "id": "xLxxtLbqDn0o",
        "outputId": "5f925a99-a990-4265-8308-2bb2be6a284f"
      },
      "outputs": [
        {
          "output_type": "execute_result",
          "data": {
            "text/html": [
              "<div>\n",
              "<style scoped>\n",
              "    .dataframe tbody tr th:only-of-type {\n",
              "        vertical-align: middle;\n",
              "    }\n",
              "\n",
              "    .dataframe tbody tr th {\n",
              "        vertical-align: top;\n",
              "    }\n",
              "\n",
              "    .dataframe thead th {\n",
              "        text-align: right;\n",
              "    }\n",
              "</style>\n",
              "<table border=\"1\" class=\"dataframe\">\n",
              "  <thead>\n",
              "    <tr style=\"text-align: right;\">\n",
              "      <th></th>\n",
              "      <th>Date</th>\n",
              "      <th>Open</th>\n",
              "      <th>High</th>\n",
              "      <th>Low</th>\n",
              "      <th>Close</th>\n",
              "      <th>Volume</th>\n",
              "      <th>Name</th>\n",
              "    </tr>\n",
              "  </thead>\n",
              "  <tbody>\n",
              "    <tr>\n",
              "      <th>0</th>\n",
              "      <td>2006-01-03</td>\n",
              "      <td>56.45</td>\n",
              "      <td>56.66</td>\n",
              "      <td>55.46</td>\n",
              "      <td>56.53</td>\n",
              "      <td>3716500</td>\n",
              "      <td>UTX</td>\n",
              "    </tr>\n",
              "    <tr>\n",
              "      <th>1</th>\n",
              "      <td>2006-01-04</td>\n",
              "      <td>56.80</td>\n",
              "      <td>56.80</td>\n",
              "      <td>55.84</td>\n",
              "      <td>56.19</td>\n",
              "      <td>3114500</td>\n",
              "      <td>UTX</td>\n",
              "    </tr>\n",
              "    <tr>\n",
              "      <th>2</th>\n",
              "      <td>2006-01-05</td>\n",
              "      <td>56.30</td>\n",
              "      <td>56.49</td>\n",
              "      <td>55.63</td>\n",
              "      <td>55.98</td>\n",
              "      <td>3118900</td>\n",
              "      <td>UTX</td>\n",
              "    </tr>\n",
              "    <tr>\n",
              "      <th>3</th>\n",
              "      <td>2006-01-06</td>\n",
              "      <td>56.45</td>\n",
              "      <td>56.67</td>\n",
              "      <td>56.10</td>\n",
              "      <td>56.16</td>\n",
              "      <td>2874300</td>\n",
              "      <td>UTX</td>\n",
              "    </tr>\n",
              "    <tr>\n",
              "      <th>4</th>\n",
              "      <td>2006-01-09</td>\n",
              "      <td>56.37</td>\n",
              "      <td>56.90</td>\n",
              "      <td>56.16</td>\n",
              "      <td>56.80</td>\n",
              "      <td>2467200</td>\n",
              "      <td>UTX</td>\n",
              "    </tr>\n",
              "  </tbody>\n",
              "</table>\n",
              "</div>"
            ],
            "text/plain": [
              "         Date   Open   High    Low  Close   Volume Name\n",
              "0  2006-01-03  56.45  56.66  55.46  56.53  3716500  UTX\n",
              "1  2006-01-04  56.80  56.80  55.84  56.19  3114500  UTX\n",
              "2  2006-01-05  56.30  56.49  55.63  55.98  3118900  UTX\n",
              "3  2006-01-06  56.45  56.67  56.10  56.16  2874300  UTX\n",
              "4  2006-01-09  56.37  56.90  56.16  56.80  2467200  UTX"
            ]
          },
          "metadata": {},
          "execution_count": 3
        }
      ],
      "source": [
        "# tampilkan 5 baris data \n",
        "data.head()"
      ]
    },
    {
      "cell_type": "markdown",
      "metadata": {
        "id": "GhrcMHrYDn0q"
      },
      "source": [
        "### Review Data"
      ]
    },
    {
      "cell_type": "code",
      "execution_count": 4,
      "metadata": {
        "_uuid": "f7be14868f30eaa55193cb7ad2674c72c447fa59",
        "colab": {
          "base_uri": "https://localhost:8080/"
        },
        "id": "0VBvnWE0Dn0r",
        "outputId": "2101c956-7525-413c-f97a-855f21be9789"
      },
      "outputs": [
        {
          "output_type": "stream",
          "name": "stdout",
          "text": [
            "<class 'pandas.core.frame.DataFrame'>\n",
            "RangeIndex: 3020 entries, 0 to 3019\n",
            "Data columns (total 7 columns):\n",
            " #   Column  Non-Null Count  Dtype  \n",
            "---  ------  --------------  -----  \n",
            " 0   Date    3020 non-null   object \n",
            " 1   Open    3019 non-null   float64\n",
            " 2   High    3020 non-null   float64\n",
            " 3   Low     3020 non-null   float64\n",
            " 4   Close   3020 non-null   float64\n",
            " 5   Volume  3020 non-null   int64  \n",
            " 6   Name    3020 non-null   object \n",
            "dtypes: float64(4), int64(1), object(2)\n",
            "memory usage: 165.3+ KB\n"
          ]
        }
      ],
      "source": [
        "# Melihat Informasi lebih detail mengenai struktur DataFrame dapat dilihat menggunakan fungsi info()\n",
        "data.info()"
      ]
    },
    {
      "cell_type": "code",
      "execution_count": 5,
      "metadata": {
        "_uuid": "d1c7f3ee1eabccd4186e8046252a379ef7b5cefa",
        "id": "qYPNNiBnDn0s"
      },
      "outputs": [],
      "source": [
        "# Kolom 'low' yang akan kita gunakan dalam membangun model\n",
        "# Slice kolom 'low' \n",
        "\n",
        "Low_data = data.iloc[:,3:4].values"
      ]
    },
    {
      "cell_type": "code",
      "execution_count": null,
      "metadata": {
        "_uuid": "3022aa336271cc887b9f29b142f7351c6840a123",
        "id": "ooElJXUYDn0t",
        "outputId": "4fbc65f8-e91f-46a6-cfe4-1b52bb5231f7"
      },
      "outputs": [
        {
          "data": {
            "text/plain": [
              "array([[ 55.46],\n",
              "       [ 55.84],\n",
              "       [ 55.63],\n",
              "       ...,\n",
              "       [126.92],\n",
              "       [127.29],\n",
              "       [127.57]])"
            ]
          },
          "execution_count": 46,
          "metadata": {},
          "output_type": "execute_result"
        }
      ],
      "source": [
        "# cek output low_data\n",
        "Low_data           "
      ]
    },
    {
      "cell_type": "code",
      "execution_count": 6,
      "metadata": {
        "_uuid": "0fba437dbe916d38aa29f7e3b8d3c0058e72cd6f",
        "colab": {
          "base_uri": "https://localhost:8080/",
          "height": 628
        },
        "id": "-Ern3HnNDn0v",
        "outputId": "9b92e097-059a-400a-940a-8d399eb66dc5"
      },
      "outputs": [
        {
          "output_type": "display_data",
          "data": {
            "image/png": "[encoded data removed]",
            "text/plain": [
              "<Figure size 1008x720 with 1 Axes>"
            ]
          },
          "metadata": {
            "needs_background": "light"
          }
        }
      ],
      "source": [
        "# Visualizing low_data\n",
        "\n",
        "plt.figure(figsize=(14,10))                 \n",
        "plt.plot(Low_data,c=\"red\")\n",
        "plt.title(\"Microsoft Stock Prices\",fontsize=16)\n",
        "plt.xlabel(\"Days\",fontsize=16)\n",
        "plt.ylabel(\"Scaled Price\",fontsize=16)\n",
        "plt.grid()\n",
        "plt.show()"
      ]
    },
    {
      "cell_type": "markdown",
      "metadata": {
        "_uuid": "0ed6338b04615f1c9b8aee0c017a21c5f6c9f44e",
        "id": "o38AR85sDn0w"
      },
      "source": [
        "# Latihan (2)\n",
        "\n",
        "###  Data Preprocessing"
      ]
    },
    {
      "cell_type": "code",
      "execution_count": 7,
      "metadata": {
        "_uuid": "77340783a8ce9d6b1a7bd66eb0adf38fb8dea48b",
        "colab": {
          "base_uri": "https://localhost:8080/"
        },
        "id": "ji4m_S-cDn0x",
        "outputId": "0fc0a0f1-449e-4a87-dfe0-e5421f4bd9ff"
      },
      "outputs": [
        {
          "output_type": "execute_result",
          "data": {
            "text/plain": [
              "array([[0.20028834],\n",
              "       [0.20450261],\n",
              "       [0.20217367],\n",
              "       ...,\n",
              "       [0.99279139],\n",
              "       [0.99689475],\n",
              "       [1.        ]])"
            ]
          },
          "metadata": {},
          "execution_count": 7
        }
      ],
      "source": [
        "# Menskalakan data antara 1 dan 0 (scaling) pada low data\n",
        "scaler = MinMaxScaler(feature_range=(0,1))\n",
        "low_scaled = scaler.fit_transform(Low_data)\n",
        "low_scaled"
      ]
    },
    {
      "cell_type": "code",
      "execution_count": 8,
      "metadata": {
        "_uuid": "47988513e859e73a34e041fa5131518451fac658",
        "id": "6Oq02qudDn0y"
      },
      "outputs": [],
      "source": [
        "# definisikan variabel step dan train \n",
        "\n",
        "stepsize = 21\n",
        "\n",
        "X_train, y_train = [], []\n",
        "\n",
        "# membuat fitur dan lists label\n",
        "for i in range(stepsize,3019):                \n",
        "    X_train.append(low_scaled[i-stepsize:i,0])\n",
        "    y_train.append(low_scaled[i,0])"
      ]
    },
    {
      "cell_type": "code",
      "execution_count": 9,
      "metadata": {
        "colab": {
          "base_uri": "https://localhost:8080/"
        },
        "id": "7sDb48g_Dn0y",
        "outputId": "62eaea5d-d413-4e03-956f-a73fbaaefe0f"
      },
      "outputs": [
        {
          "output_type": "stream",
          "name": "stdout",
          "text": [
            "(2998, 21) (2998,)\n"
          ]
        }
      ],
      "source": [
        "# mengonversi list yang telah dibuat sebelumnya ke array\n",
        "X_train = np.array(X_train)                  \n",
        "y_train = np.array(y_train)\n",
        "\n",
        "print(X_train.shape, y_train.shape)"
      ]
    },
    {
      "cell_type": "code",
      "execution_count": 10,
      "metadata": {
        "colab": {
          "base_uri": "https://localhost:8080/"
        },
        "id": "F35zxYEODn0z",
        "outputId": "a023f263-1fbd-4f8b-fcec-34b6d0ba1dfb"
      },
      "outputs": [
        {
          "output_type": "stream",
          "name": "stdout",
          "text": [
            "(2500, 21) (498, 21)\n",
            "(2500,) (498,)\n"
          ]
        }
      ],
      "source": [
        "# 498 hari terakhir akan digunakan dalam pengujian\n",
        "# 2500 hari pertama akan digunakan dalam pelatihan\n",
        "\n",
        "X_test = X_train[2500:]             \n",
        "X_train = X_train[:2500]         \n",
        "y_test = y_train[2500:]  \n",
        "y_train = y_train[:2500]\n",
        "\n",
        "print(X_train.shape, X_test.shape)\n",
        "print(y_train.shape, y_test.shape)"
      ]
    },
    {
      "cell_type": "code",
      "execution_count": 11,
      "metadata": {
        "colab": {
          "base_uri": "https://localhost:8080/"
        },
        "id": "I65Q2zlPDn00",
        "outputId": "02d72727-6998-4381-c23c-630f5f7087bb"
      },
      "outputs": [
        {
          "output_type": "stream",
          "name": "stdout",
          "text": [
            "(2500, 21, 1) (498, 21, 1)\n"
          ]
        }
      ],
      "source": [
        "# cek kembali dimensi data yang telah di reshape dengan function .shape\n",
        "                          \n",
        "X_train = np.reshape(X_train, (2500, stepsize, 1))           \n",
        "X_test = np.reshape(X_test, (498, stepsize, 1))\n",
        "\n",
        "print(X_train.shape, X_test.shape)"
      ]
    },
    {
      "cell_type": "markdown",
      "metadata": {
        "_uuid": "36ce211bae2ce73bb74f9c68bebd8341bfa4dcaa",
        "id": "q34Po2orDn01"
      },
      "source": [
        "Sekarang kita bisa mulai membuat model kita, dimulai dengan RNN"
      ]
    },
    {
      "cell_type": "markdown",
      "metadata": {
        "_uuid": "0ed6338b04615f1c9b8aee0c017a21c5f6c9f44e",
        "id": "SQdw4aarDn02"
      },
      "source": [
        "# Latihan (3)\n",
        "\n",
        "###  Build Model - RNN"
      ]
    },
    {
      "cell_type": "code",
      "execution_count": 12,
      "metadata": {
        "_uuid": "7c537bd5662768a89af0ca153cc873dffe3c357f",
        "id": "izdy4eurDn02"
      },
      "outputs": [],
      "source": [
        "# buat varibel penampung model RNN\n",
        "rnn_model = Sequential()"
      ]
    },
    {
      "cell_type": "code",
      "execution_count": 13,
      "metadata": {
        "_uuid": "b8d82124786360d2839b63165fb242921d93f8a1",
        "id": "GfUYD3PfDn03"
      },
      "outputs": [],
      "source": [
        "# Output dari SimpleRNN akan menjadi bentuk tensor 2D (batch_size, 40) dengan Dropout sebesar 0.15\n",
        "\n",
        "rnn_model.add(SimpleRNN(40,activation=\"tanh\",return_sequences=True, input_shape=(X_train.shape[1],1)))\n",
        "rnn_model.add(Dropout(0.15))\n",
        "\n",
        "rnn_model.add(SimpleRNN(40,activation=\"tanh\",return_sequences=True))\n",
        "rnn_model.add(Dropout(0.15))\n",
        "\n",
        "rnn_model.add(SimpleRNN(40,activation=\"tanh\",return_sequences=False))\n",
        "rnn_model.add(Dropout(0.15))\n",
        "\n",
        "# Add a Dense layer with 1 units.\n",
        "rnn_model.add(Dense(1))"
      ]
    },
    {
      "cell_type": "code",
      "execution_count": 14,
      "metadata": {
        "_uuid": "e6bfdf03b0efa3c44f001b9f3861de965c8461a8",
        "id": "96hiCuYxDn03"
      },
      "outputs": [],
      "source": [
        "# menambahkan loss function kedalam model RNN dengan tipe MSE\n",
        "\n",
        "rnn_model.compile(optimizer=\"adam\",loss=\"MSE\")"
      ]
    },
    {
      "cell_type": "code",
      "execution_count": 15,
      "metadata": {
        "_uuid": "44d96eb8a0fa58ecfa5d17df71306006b254ad12",
        "colab": {
          "base_uri": "https://localhost:8080/"
        },
        "id": "KReM7vYwDn04",
        "outputId": "2d2a8d91-c0a5-455e-e35d-443c7adc303d"
      },
      "outputs": [
        {
          "output_type": "stream",
          "name": "stdout",
          "text": [
            "Epoch 1/20\n",
            "100/100 [==============================] - 4s 16ms/step - loss: 0.1042\n",
            "Epoch 2/20\n",
            "100/100 [==============================] - 2s 15ms/step - loss: 0.0274\n",
            "Epoch 3/20\n",
            "100/100 [==============================] - 2s 15ms/step - loss: 0.0183\n",
            "Epoch 4/20\n",
            "100/100 [==============================] - 2s 16ms/step - loss: 0.0129\n",
            "Epoch 5/20\n",
            "100/100 [==============================] - 2s 15ms/step - loss: 0.0099\n",
            "Epoch 6/20\n",
            "100/100 [==============================] - 2s 15ms/step - loss: 0.0086\n",
            "Epoch 7/20\n",
            "100/100 [==============================] - 2s 15ms/step - loss: 0.0075\n",
            "Epoch 8/20\n",
            "100/100 [==============================] - 2s 16ms/step - loss: 0.0066\n",
            "Epoch 9/20\n",
            "100/100 [==============================] - 1s 15ms/step - loss: 0.0051\n",
            "Epoch 10/20\n",
            "100/100 [==============================] - 2s 15ms/step - loss: 0.0052\n",
            "Epoch 11/20\n",
            "100/100 [==============================] - 2s 16ms/step - loss: 0.0047\n",
            "Epoch 12/20\n",
            "100/100 [==============================] - 2s 15ms/step - loss: 0.0045\n",
            "Epoch 13/20\n",
            "100/100 [==============================] - 1s 15ms/step - loss: 0.0041\n",
            "Epoch 14/20\n",
            "100/100 [==============================] - 2s 15ms/step - loss: 0.0038\n",
            "Epoch 15/20\n",
            "100/100 [==============================] - 2s 15ms/step - loss: 0.0039\n",
            "Epoch 16/20\n",
            "100/100 [==============================] - 1s 15ms/step - loss: 0.0033\n",
            "Epoch 17/20\n",
            "100/100 [==============================] - 1s 15ms/step - loss: 0.0030\n",
            "Epoch 18/20\n",
            "100/100 [==============================] - 2s 16ms/step - loss: 0.0027\n",
            "Epoch 19/20\n",
            "100/100 [==============================] - 1s 15ms/step - loss: 0.0029\n",
            "Epoch 20/20\n",
            "100/100 [==============================] - 1s 15ms/step - loss: 0.0027\n"
          ]
        },
        {
          "output_type": "execute_result",
          "data": {
            "text/plain": [
              "<keras.callbacks.History at 0x7f7c3a6031d0>"
            ]
          },
          "metadata": {},
          "execution_count": 15
        }
      ],
      "source": [
        "# fit the model RNN, dengan epoch 20 dan batch size 25\n",
        "\n",
        "rnn_model.fit(X_train,y_train,epochs=20,batch_size=25)"
      ]
    },
    {
      "cell_type": "code",
      "execution_count": 16,
      "metadata": {
        "_uuid": "da7338ba384e18f235cd083bd9602c848e7ec8cb",
        "id": "yFKpUkMADn05"
      },
      "outputs": [],
      "source": [
        "# Prediksi Model RNN\n",
        "rnn_predictions = rnn_model.predict(X_test)\n",
        "\n",
        "rnn_score = r2_score(y_test,rnn_predictions)"
      ]
    },
    {
      "cell_type": "code",
      "execution_count": 17,
      "metadata": {
        "scrolled": true,
        "colab": {
          "base_uri": "https://localhost:8080/"
        },
        "id": "xDXjQlNQDn05",
        "outputId": "84078d5a-8fad-4738-f589-884be59f1517"
      },
      "outputs": [
        {
          "output_type": "execute_result",
          "data": {
            "text/plain": [
              "0.9743107010864748"
            ]
          },
          "metadata": {},
          "execution_count": 17
        }
      ],
      "source": [
        "rnn_score"
      ]
    },
    {
      "cell_type": "markdown",
      "metadata": {
        "_uuid": "0ed6338b04615f1c9b8aee0c017a21c5f6c9f44e",
        "id": "668fpODKDn06"
      },
      "source": [
        "# Latihan (4)\n",
        "\n",
        "###  Build Model - LSTM"
      ]
    },
    {
      "cell_type": "code",
      "execution_count": 18,
      "metadata": {
        "_uuid": "b0281b303bd5e032c2115cdf9d6c184908f9bd03",
        "id": "ljeqDp_yDn06"
      },
      "outputs": [],
      "source": [
        "# buat varibel penampung model LSTM\n",
        "lstm_model = Sequential()"
      ]
    },
    {
      "cell_type": "code",
      "execution_count": 19,
      "metadata": {
        "_uuid": "fcb29b0dffb87ef05bc4b1c7ce2c03e9fc166770",
        "id": "4t24uSspDn07"
      },
      "outputs": [],
      "source": [
        "# Add a LSTM layer with 40 internal units. dengan Dropout sebesar 0.15\n",
        "\n",
        "lstm_model.add(LSTM(40,activation=\"tanh\",return_sequences=True, input_shape=(X_train.shape[1],1)))\n",
        "lstm_model.add(Dropout(0.15))\n",
        "\n",
        "lstm_model.add(LSTM(40,activation=\"tanh\",return_sequences=True))\n",
        "lstm_model.add(Dropout(0.15))\n",
        "\n",
        "lstm_model.add(LSTM(40,activation=\"tanh\",return_sequences=False))\n",
        "lstm_model.add(Dropout(0.15))\n",
        "\n",
        "# Add a Dense layer with 1 units.\n",
        "lstm_model.add(Dense(1))"
      ]
    },
    {
      "cell_type": "code",
      "execution_count": 20,
      "metadata": {
        "_uuid": "d9db1d5c8f05a80cedc9b603b518760266ce6776",
        "id": "9PHnGF-7Dn0_"
      },
      "outputs": [],
      "source": [
        "# menambahkan loss function kedalam model lstm dengan tipe MSE\n",
        "lstm_model.compile(optimizer=\"adam\",loss=\"MSE\")"
      ]
    },
    {
      "cell_type": "code",
      "execution_count": 21,
      "metadata": {
        "_uuid": "605f71e78831cbef65aef8638670a4fa95b77e85",
        "colab": {
          "base_uri": "https://localhost:8080/"
        },
        "id": "WnOPVQIlDn1B",
        "outputId": "8ee8189d-ab48-4705-8588-706ecd77c8bc"
      },
      "outputs": [
        {
          "output_type": "stream",
          "name": "stdout",
          "text": [
            "Epoch 1/20\n",
            "100/100 [==============================] - 8s 28ms/step - loss: 0.0199\n",
            "Epoch 2/20\n",
            "100/100 [==============================] - 3s 28ms/step - loss: 0.0035\n",
            "Epoch 3/20\n",
            "100/100 [==============================] - 3s 27ms/step - loss: 0.0031\n",
            "Epoch 4/20\n",
            "100/100 [==============================] - 3s 28ms/step - loss: 0.0027\n",
            "Epoch 5/20\n",
            "100/100 [==============================] - 3s 28ms/step - loss: 0.0029\n",
            "Epoch 6/20\n",
            "100/100 [==============================] - 3s 28ms/step - loss: 0.0027\n",
            "Epoch 7/20\n",
            "100/100 [==============================] - 3s 26ms/step - loss: 0.0026\n",
            "Epoch 8/20\n",
            "100/100 [==============================] - 3s 28ms/step - loss: 0.0024\n",
            "Epoch 9/20\n",
            "100/100 [==============================] - 3s 27ms/step - loss: 0.0026\n",
            "Epoch 10/20\n",
            "100/100 [==============================] - 3s 28ms/step - loss: 0.0023\n",
            "Epoch 11/20\n",
            "100/100 [==============================] - 3s 26ms/step - loss: 0.0021\n",
            "Epoch 12/20\n",
            "100/100 [==============================] - 3s 28ms/step - loss: 0.0021\n",
            "Epoch 13/20\n",
            "100/100 [==============================] - 3s 26ms/step - loss: 0.0020\n",
            "Epoch 14/20\n",
            "100/100 [==============================] - 3s 27ms/step - loss: 0.0020\n",
            "Epoch 15/20\n",
            "100/100 [==============================] - 3s 27ms/step - loss: 0.0019\n",
            "Epoch 16/20\n",
            "100/100 [==============================] - 3s 28ms/step - loss: 0.0018\n",
            "Epoch 17/20\n",
            "100/100 [==============================] - 3s 27ms/step - loss: 0.0017\n",
            "Epoch 18/20\n",
            "100/100 [==============================] - 3s 27ms/step - loss: 0.0017\n",
            "Epoch 19/20\n",
            "100/100 [==============================] - 3s 26ms/step - loss: 0.0016\n",
            "Epoch 20/20\n",
            "100/100 [==============================] - 3s 27ms/step - loss: 0.0015\n"
          ]
        },
        {
          "output_type": "execute_result",
          "data": {
            "text/plain": [
              "<keras.callbacks.History at 0x7f7c36afd190>"
            ]
          },
          "metadata": {},
          "execution_count": 21
        }
      ],
      "source": [
        "# fit lstm model, dengan epoch 20 dan batch size 25\n",
        "lstm_model.fit(X_train,y_train,epochs=20,batch_size=25)"
      ]
    },
    {
      "cell_type": "code",
      "execution_count": 22,
      "metadata": {
        "_uuid": "411eafbf6eb7f155f10461be59d6ab371893e62f",
        "id": "j1QKKwMdDn1C"
      },
      "outputs": [],
      "source": [
        "# Prediksi Model LSTM\n",
        "lstm_predictions = lstm_model.predict(X_test)\n",
        "\n",
        "lstm_score = r2_score(y_test,lstm_predictions)"
      ]
    },
    {
      "cell_type": "code",
      "execution_count": 23,
      "metadata": {
        "_uuid": "6940c2d59c0762be788df610509d5b73373e38a0",
        "scrolled": true,
        "colab": {
          "base_uri": "https://localhost:8080/"
        },
        "id": "m3WQQIlXDn1E",
        "outputId": "bcfc889b-802b-4974-f58a-cbf1d45597c4"
      },
      "outputs": [
        {
          "output_type": "execute_result",
          "data": {
            "text/plain": [
              "0.9438185592433311"
            ]
          },
          "metadata": {},
          "execution_count": 23
        }
      ],
      "source": [
        "lstm_score"
      ]
    },
    {
      "cell_type": "markdown",
      "metadata": {
        "_uuid": "0ed6338b04615f1c9b8aee0c017a21c5f6c9f44e",
        "id": "1OVLUxOlDn1F"
      },
      "source": [
        "# Latihan (5)\n",
        "\n",
        "### Evaluation"
      ]
    },
    {
      "cell_type": "code",
      "execution_count": 24,
      "metadata": {
        "_uuid": "1e2dcc7ce554b96eeefe27b7a34e1194351b54f3",
        "colab": {
          "base_uri": "https://localhost:8080/"
        },
        "id": "c6dJHFyNDn1F",
        "outputId": "18ab7589-862e-4ef6-9f1c-ad2cc45d8906"
      },
      "outputs": [
        {
          "output_type": "stream",
          "name": "stdout",
          "text": [
            "R^2 Score of RNN 0.9743107010864748\n",
            "R^2 Score of LSTM 0.9438185592433311\n"
          ]
        }
      ],
      "source": [
        "# Cetak nilai prediksi masing-masing model dengan menggunakan r^2 square\n",
        "print(\"R^2 Score of RNN\",rnn_score)\n",
        "print(\"R^2 Score of LSTM\",lstm_score)"
      ]
    },
    {
      "cell_type": "markdown",
      "metadata": {
        "id": "RvJ3c6VPDn1G"
      },
      "source": [
        "### Visualisasi Perbandingan Hasil Model prediksi dengan data original "
      ]
    },
    {
      "cell_type": "code",
      "execution_count": 25,
      "metadata": {
        "_uuid": "feeb5905d3e1767d3d4cd93e4ce834d6f89e98fc",
        "id": "O6AguqInDn1G"
      },
      "outputs": [],
      "source": [
        "lstm_predictions = scaler.inverse_transform(lstm_predictions)\n",
        "rnn_predictions = scaler.inverse_transform(rnn_predictions)\n",
        "test_y = scaler.inverse_transform(y_test.reshape(-1,1))"
      ]
    },
    {
      "cell_type": "code",
      "execution_count": 26,
      "metadata": {
        "_uuid": "e9cf7c92445b1ec84e7597139cf49770b8282924",
        "colab": {
          "base_uri": "https://localhost:8080/",
          "height": 721
        },
        "id": "oEYL6tI3Dn1H",
        "outputId": "59edc01e-edd8-4774-e7c6-de036f8658e3"
      },
      "outputs": [
        {
          "output_type": "display_data",
          "data": {
            "image/png": "[encoded data removed]",
            "text/plain": [
              "<Figure size 1152x864 with 1 Axes>"
            ]
          },
          "metadata": {
            "needs_background": "light"
          }
        }
      ],
      "source": [
        "plt.figure(figsize=(16,12))\n",
        "\n",
        "plt.plot(test_y, c=\"blue\",linewidth=2, label=\"original\")\n",
        "plt.plot(lstm_predictions, c=\"green\",linewidth=2, label=\"LSTM\")\n",
        "plt.plot(rnn_predictions, c=\"red\",linewidth=2, label=\"RNN\")\n",
        "plt.legend()\n",
        "plt.title(\"PERBANDINGAN\",fontsize=20)\n",
        "plt.grid()\n",
        "plt.show()"
      ]
    },
    {
      "cell_type": "markdown",
      "metadata": {
        "_uuid": "4d17d70b478ab4281e931edfdf258db7f727efa5",
        "id": "82gWS5k7Dn1I"
      },
      "source": [
        "## Berikan Kesimpulan Anda!"
      ]
    },
    {
      "cell_type": "markdown",
      "metadata": {
        "id": "AWwwBWN9Dn1I"
      },
      "source": [
        "Dapat disimpulkan bahwa model RNN lebih baik untuk prediksi data time series berupa saham dibandingkan model LSTM."
      ]
    }
  ],
  "metadata": {
    "kernelspec": {
      "display_name": "Python 3 (ipykernel)",
      "language": "python",
      "name": "python3"
    },
    "language_info": {
      "codemirror_mode": {
        "name": "ipython",
        "version": 3
      },
      "file_extension": ".py",
      "mimetype": "text/x-python",
      "name": "python",
      "nbconvert_exporter": "python",
      "pygments_lexer": "ipython3",
      "version": "3.9.9"
    },
    "colab": {
      "name": "Tugas Mandiri Pertemuan 14_Windy Mega Melani_ITS03.ipynb",
      "provenance": []
    }
  },
  "nbformat": 4,
  "nbformat_minor": 0
}